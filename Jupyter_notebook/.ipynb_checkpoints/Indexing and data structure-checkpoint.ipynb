{
 "cells": [
  {
   "cell_type": "markdown",
   "id": "5e3aa1a7",
   "metadata": {},
   "source": [
    "# Indexing"
   ]
  },
  {
   "cell_type": "code",
   "execution_count": 10,
   "id": "58f763a0",
   "metadata": {},
   "outputs": [
    {
     "data": {
      "text/plain": [
       "('amosa', 'kor')"
      ]
     },
     "execution_count": 10,
     "metadata": {},
     "output_type": "execute_result"
    }
   ],
   "source": [
    "# make a string\n",
    "a=\"samosa, pakora\"\n",
    "a[1:6],a[-4:-1]"
   ]
  },
  {
   "cell_type": "code",
   "execution_count": 13,
   "id": "ea2df32b",
   "metadata": {},
   "outputs": [
    {
     "data": {
      "text/plain": [
       "'Biryani'"
      ]
     },
     "execution_count": 13,
     "metadata": {},
     "output_type": "execute_result"
    }
   ],
   "source": [
    "# make strings\n",
    "food=\"biryani\"\n",
    "food.capitalize()"
   ]
  },
  {
   "cell_type": "code",
   "execution_count": 15,
   "id": "3e94fb36",
   "metadata": {},
   "outputs": [
    {
     "data": {
      "text/plain": [
       "('sjmosj, pjkorj', 'piryani')"
      ]
     },
     "execution_count": 15,
     "metadata": {},
     "output_type": "execute_result"
    }
   ],
   "source": [
    "a.replace(\"a\",\"j\"),food.replace(\"b\",\"p\")"
   ]
  },
  {
   "cell_type": "code",
   "execution_count": 16,
   "id": "fbe63d2d",
   "metadata": {},
   "outputs": [
    {
     "data": {
      "text/plain": [
       "6"
      ]
     },
     "execution_count": 16,
     "metadata": {},
     "output_type": "execute_result"
    }
   ],
   "source": [
    "#counting specific letter\n",
    "name=\"being non CS engineer, learning coding is quite tough\"\n",
    "name.count(\"e\")"
   ]
  },
  {
   "cell_type": "code",
   "execution_count": 19,
   "id": "2ebbf4e3",
   "metadata": {},
   "outputs": [
    {
     "data": {
      "text/plain": [
       "20"
      ]
     },
     "execution_count": 19,
     "metadata": {},
     "output_type": "execute_result"
    }
   ],
   "source": [
    "#finding index number in string\n",
    "name.find(\"b\")\n",
    "name.find(\"r\")"
   ]
  },
  {
   "cell_type": "code",
   "execution_count": 21,
   "id": "1c0d0c01",
   "metadata": {},
   "outputs": [
    {
     "data": {
      "text/plain": [
       "['I love raita',\n",
       " ' samosa',\n",
       " ' pakora',\n",
       " ' halwa',\n",
       " ' biryani',\n",
       " ' pulao',\n",
       " ' and tikkas']"
      ]
     },
     "execution_count": 21,
     "metadata": {},
     "output_type": "execute_result"
    }
   ],
   "source": [
    "#how to split a string\n",
    "food=\"I love raita, samosa, pakora, halwa, biryani, pulao, and tikkas\"\n",
    "food.split(\",\")"
   ]
  },
  {
   "cell_type": "markdown",
   "id": "3c7ce241",
   "metadata": {},
   "source": [
    "# Basic data structure in python\n",
    "## 1- Tuple\n",
    "## 2- list\n",
    "## 3- Dictioneries\n",
    "## 4- Set\n",
    "\n",
    "## *1- Tuple*\n",
    "### - ordered collection of elements\n",
    "### - enclosed in round braces\n",
    "### - different kind of elements can be saved\n",
    "### - once elements are stored can't be unchanged"
   ]
  },
  {
   "cell_type": "code",
   "execution_count": 24,
   "id": "be5880da",
   "metadata": {
    "scrolled": true
   },
   "outputs": [
    {
     "data": {
      "text/plain": [
       "(1, 'python', 'true', 2.5)"
      ]
     },
     "execution_count": 24,
     "metadata": {},
     "output_type": "execute_result"
    }
   ],
   "source": [
    "tupl= (1,\"python\",\"true\",2.5)\n",
    "tupl"
   ]
  },
  {
   "cell_type": "code",
   "execution_count": 25,
   "id": "935aa9fe",
   "metadata": {},
   "outputs": [
    {
     "data": {
      "text/plain": [
       "'python'"
      ]
     },
     "execution_count": 25,
     "metadata": {},
     "output_type": "execute_result"
    }
   ],
   "source": [
    "tupl[1]"
   ]
  },
  {
   "cell_type": "code",
   "execution_count": 27,
   "id": "dca05f0a",
   "metadata": {},
   "outputs": [],
   "source": [
    "tup=(2,\"baba_aammar\",2.5,\"false\")"
   ]
  },
  {
   "cell_type": "code",
   "execution_count": 28,
   "id": "e0a34578",
   "metadata": {},
   "outputs": [
    {
     "data": {
      "text/plain": [
       "(1, 'python', 'true', 2.5, 2, 'baba_aammar', 2.5, 'false')"
      ]
     },
     "execution_count": 28,
     "metadata": {},
     "output_type": "execute_result"
    }
   ],
   "source": [
    "#concatinate\n",
    "tupl+tup"
   ]
  },
  {
   "cell_type": "code",
   "execution_count": 29,
   "id": "b4eae50a",
   "metadata": {},
   "outputs": [],
   "source": [
    "tup3=(20,30,40,50,60)"
   ]
  },
  {
   "cell_type": "code",
   "execution_count": 31,
   "id": "335b6947",
   "metadata": {},
   "outputs": [
    {
     "data": {
      "text/plain": [
       "(20, 30, 40, 50, 60, 20, 30, 40, 50, 60)"
      ]
     },
     "execution_count": 31,
     "metadata": {},
     "output_type": "execute_result"
    }
   ],
   "source": [
    "tup3*2"
   ]
  },
  {
   "cell_type": "markdown",
   "id": "21fec371",
   "metadata": {},
   "source": [
    "---"
   ]
  },
  {
   "cell_type": "markdown",
   "id": "e84c7b7a",
   "metadata": {},
   "source": [
    "## 2- List \n",
    "- ordered collection of elements\n",
    "- enclosed in []\n",
    "- mutateable, can be changed"
   ]
  },
  {
   "cell_type": "code",
   "execution_count": 45,
   "id": "f2f5a27a",
   "metadata": {},
   "outputs": [],
   "source": [
    "list1=[1,\"python\",\"true\",2.5]\n",
    "list2=[2,3,\"MATLAB\",False,50]"
   ]
  },
  {
   "cell_type": "code",
   "execution_count": 34,
   "id": "3eb63733",
   "metadata": {},
   "outputs": [
    {
     "data": {
      "text/plain": [
       "'true'"
      ]
     },
     "execution_count": 34,
     "metadata": {},
     "output_type": "execute_result"
    }
   ],
   "source": [
    "list1[2]"
   ]
  },
  {
   "cell_type": "code",
   "execution_count": 37,
   "id": "0e5cb5a1",
   "metadata": {},
   "outputs": [
    {
     "data": {
      "text/plain": [
       "[1, 'python', 'true', 2.5, 2, 3, 'MATLAB', False, 50]"
      ]
     },
     "execution_count": 37,
     "metadata": {},
     "output_type": "execute_result"
    }
   ],
   "source": [
    "list1+list2"
   ]
  },
  {
   "cell_type": "code",
   "execution_count": 46,
   "id": "4bcf4a86",
   "metadata": {},
   "outputs": [
    {
     "data": {
      "text/plain": [
       "[2.5, 'true', 'python', 1]"
      ]
     },
     "execution_count": 46,
     "metadata": {},
     "output_type": "execute_result"
    }
   ],
   "source": [
    "list1.reverse()\n",
    "list1"
   ]
  },
  {
   "cell_type": "code",
   "execution_count": 48,
   "id": "8b319a61",
   "metadata": {},
   "outputs": [
    {
     "data": {
      "text/plain": [
       "1"
      ]
     },
     "execution_count": 48,
     "metadata": {},
     "output_type": "execute_result"
    }
   ],
   "source": [
    "#list.count function\n",
    "list2.count(2)"
   ]
  },
  {
   "cell_type": "code",
   "execution_count": 50,
   "id": "cf0305de",
   "metadata": {},
   "outputs": [
    {
     "data": {
      "text/plain": [
       "9"
      ]
     },
     "execution_count": 50,
     "metadata": {},
     "output_type": "execute_result"
    }
   ],
   "source": [
    "list3=[2,3,4,5,6,7,8,9,10]\n",
    "len(list3)"
   ]
  },
  {
   "cell_type": "code",
   "execution_count": 52,
   "id": "718b50ec",
   "metadata": {},
   "outputs": [
    {
     "data": {
      "text/plain": [
       "[2, 3, 4, 5, 6, 7, 8, 9, 10]"
      ]
     },
     "execution_count": 52,
     "metadata": {},
     "output_type": "execute_result"
    }
   ],
   "source": [
    "list3.sort()\n",
    "list3"
   ]
  },
  {
   "cell_type": "markdown",
   "id": "297a281c",
   "metadata": {},
   "source": [
    "## 3- Dictioneries\n",
    "- An un-ordered collection of elements\n",
    "- Key end value\n",
    "- curly braces\n",
    "- values are changeable"
   ]
  },
  {
   "cell_type": "code",
   "execution_count": 55,
   "id": "07e1f4e8",
   "metadata": {},
   "outputs": [
    {
     "data": {
      "text/plain": [
       "dict"
      ]
     },
     "execution_count": 55,
     "metadata": {},
     "output_type": "execute_result"
    }
   ],
   "source": [
    "#food and their prices\n",
    "d1={\"samosa\":30,\"pakora\":100,\"raista\":20,\"salad\":10,\"chicken Roles\":30}\n",
    "type(d1)"
   ]
  },
  {
   "cell_type": "code",
   "execution_count": 57,
   "id": "016fb54c",
   "metadata": {},
   "outputs": [
    {
     "data": {
      "text/plain": [
       "dict_keys(['samosa', 'pakora', 'raista', 'salad', 'chicken Roles'])"
      ]
     },
     "execution_count": 57,
     "metadata": {},
     "output_type": "execute_result"
    }
   ],
   "source": [
    "#etract data\n",
    "keys1=d1.keys()\n",
    "keys1"
   ]
  },
  {
   "cell_type": "code",
   "execution_count": 60,
   "id": "1104d37d",
   "metadata": {},
   "outputs": [
    {
     "data": {
      "text/plain": [
       "dict_values([30, 100, 20, 10, 30])"
      ]
     },
     "execution_count": 60,
     "metadata": {},
     "output_type": "execute_result"
    }
   ],
   "source": [
    "values1=d1.values()\n",
    "values1"
   ]
  },
  {
   "cell_type": "code",
   "execution_count": 61,
   "id": "e028eca0",
   "metadata": {},
   "outputs": [
    {
     "data": {
      "text/plain": [
       "{'samosa': 30,\n",
       " 'pakora': 100,\n",
       " 'raista': 20,\n",
       " 'salad': 10,\n",
       " 'chicken Roles': 30,\n",
       " 'tikki': 10}"
      ]
     },
     "execution_count": 61,
     "metadata": {},
     "output_type": "execute_result"
    }
   ],
   "source": [
    "#adding new element\n",
    "d1[\"tikki\"]=10\n",
    "d1"
   ]
  },
  {
   "cell_type": "code",
   "execution_count": 62,
   "id": "35115b08",
   "metadata": {},
   "outputs": [
    {
     "data": {
      "text/plain": [
       "{'samosa': 30,\n",
       " 'pakora': 150,\n",
       " 'raista': 20,\n",
       " 'salad': 10,\n",
       " 'chicken Roles': 30,\n",
       " 'tikki': 10}"
      ]
     },
     "execution_count": 62,
     "metadata": {},
     "output_type": "execute_result"
    }
   ],
   "source": [
    "#update values\n",
    "d1[\"pakora\"]=150\n",
    "d1"
   ]
  },
  {
   "cell_type": "code",
   "execution_count": 63,
   "id": "2372f8f3",
   "metadata": {},
   "outputs": [
    {
     "data": {
      "text/plain": [
       "{'dates': 50, 'chocolates': 30, 'Vermecillies': 35}"
      ]
     },
     "execution_count": 63,
     "metadata": {},
     "output_type": "execute_result"
    }
   ],
   "source": [
    "food2={\"dates\":50,\"chocolates\":30,\"Vermecillies\":35}\n",
    "food2"
   ]
  },
  {
   "cell_type": "code",
   "execution_count": 67,
   "id": "8cffa421",
   "metadata": {
    "scrolled": true
   },
   "outputs": [
    {
     "data": {
      "text/plain": [
       "{'samosa': 30,\n",
       " 'pakora': 150,\n",
       " 'raista': 20,\n",
       " 'salad': 10,\n",
       " 'chicken Roles': 30,\n",
       " 'tikki': 10,\n",
       " 'dates': 50,\n",
       " 'chocolates': 30,\n",
       " 'Vermecillies': 35}"
      ]
     },
     "execution_count": 67,
     "metadata": {},
     "output_type": "execute_result"
    }
   ],
   "source": [
    "#concatinatte\n",
    "d1.update(food2)\n",
    "d1"
   ]
  },
  {
   "cell_type": "markdown",
   "id": "8d198436",
   "metadata": {},
   "source": [
    "## 4- Set\n",
    "- unordered and unindexed\n",
    "- curly braces are used\n",
    "- no dupliocates allowed"
   ]
  },
  {
   "cell_type": "code",
   "execution_count": 68,
   "id": "d274f2e3",
   "metadata": {},
   "outputs": [
    {
     "data": {
      "text/plain": [
       "{1, 2, 3, 4, 5, 'Usman', 'jadoon', 'khan'}"
      ]
     },
     "execution_count": 68,
     "metadata": {},
     "output_type": "execute_result"
    }
   ],
   "source": [
    "s1={1,3,2,4,5,\"Usman\",\"khan\",\"jadoon\"}\n",
    "s1"
   ]
  },
  {
   "cell_type": "code",
   "execution_count": 70,
   "id": "54276226",
   "metadata": {},
   "outputs": [
    {
     "data": {
      "text/plain": [
       "{1, 2, 3, 4, 5, 'jadoon', 'khan'}"
      ]
     },
     "execution_count": 70,
     "metadata": {},
     "output_type": "execute_result"
    }
   ],
   "source": [
    "s1.remove(\"Usman\")\n",
    "s1"
   ]
  },
  {
   "cell_type": "code",
   "execution_count": 71,
   "id": "200b6721",
   "metadata": {
    "scrolled": true
   },
   "outputs": [
    {
     "data": {
      "text/plain": [
       "{1, 2, 3, 4, 5, 'a', 'h', 'jadoon', 'k', 'khan', 'n'}"
      ]
     },
     "execution_count": 71,
     "metadata": {},
     "output_type": "execute_result"
    }
   ],
   "source": [
    "s1.symmetric_difference(\"khan\")"
   ]
  }
 ],
 "metadata": {
  "kernelspec": {
   "display_name": "Python 3 (ipykernel)",
   "language": "python",
   "name": "python3"
  },
  "language_info": {
   "codemirror_mode": {
    "name": "ipython",
    "version": 3
   },
   "file_extension": ".py",
   "mimetype": "text/x-python",
   "name": "python",
   "nbconvert_exporter": "python",
   "pygments_lexer": "ipython3",
   "version": "3.9.7"
  }
 },
 "nbformat": 4,
 "nbformat_minor": 5
}
