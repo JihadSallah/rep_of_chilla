{
 "cells": [
  {
   "cell_type": "markdown",
   "id": "01501b44",
   "metadata": {},
   "source": [
    "# Python ka Chilla with baba Aammar\n",
    "## How to use Jupyter Note Book\n",
    "### Basics of Python\n",
    "\n",
    "### **01- My first programme in python**"
   ]
  },
  {
   "cell_type": "code",
   "execution_count": 1,
   "id": "f2527c86",
   "metadata": {},
   "outputs": [
    {
     "name": "stdout",
     "output_type": "stream",
     "text": [
      "5\n",
      "Usman Khan Jadoon\n",
      "we are learning python from Aammar in this winter\n"
     ]
    }
   ],
   "source": [
    "\n",
    "print(2+3)\n",
    "print(\"Usman Khan Jadoon\")\n",
    "print(\"we are learning python from Aammar in this winter\")"
   ]
  },
  {
   "cell_type": "markdown",
   "id": "4a7b2bc4",
   "metadata": {},
   "source": [
    "### **02- operators**"
   ]
  },
  {
   "cell_type": "code",
   "execution_count": 2,
   "id": "5170b41d",
   "metadata": {},
   "outputs": [
    {
     "name": "stdout",
     "output_type": "stream",
     "text": [
      "3.0\n",
      "1\n",
      "3.0\n",
      "3\n"
     ]
    }
   ],
   "source": [
    "print(2+2**2/4)\n",
    "print(15%2)\n",
    "print(6/2)\n",
    "print(6//2)"
   ]
  },
  {
   "cell_type": "markdown",
   "id": "50a99f96",
   "metadata": {},
   "source": [
    "### **03- Strings**"
   ]
  },
  {
   "cell_type": "code",
   "execution_count": 3,
   "id": "6b11c003",
   "metadata": {},
   "outputs": [
    {
     "name": "stdout",
     "output_type": "stream",
     "text": [
      "we are muslims\n",
      "how are you?\n",
      "Allhamdulillah\n"
     ]
    }
   ],
   "source": [
    "print(\"we are muslims\")\n",
    "print('how are you?')\n",
    "print('''Allhamdulillah''')"
   ]
  },
  {
   "cell_type": "markdown",
   "id": "db86f21e",
   "metadata": {},
   "source": [
    "### **04- comments in python**"
   ]
  },
  {
   "cell_type": "code",
   "execution_count": 4,
   "id": "f21f3dc4",
   "metadata": {},
   "outputs": [
    {
     "name": "stdout",
     "output_type": "stream",
     "text": [
      "we are learning with Aammar\n",
      "we are learning how to code in python\n"
     ]
    }
   ],
   "source": [
    "print('we are learning with Aammar')\n",
    "print('we are learning how to code in python') #this operation is like MATLAB"
   ]
  },
  {
   "cell_type": "markdown",
   "id": "3c44a5ed",
   "metadata": {},
   "source": [
    "### **05- variables**"
   ]
  },
  {
   "cell_type": "code",
   "execution_count": 5,
   "id": "79c6bb39",
   "metadata": {},
   "outputs": [
    {
     "name": "stdout",
     "output_type": "stream",
     "text": [
      "usman haris\n",
      "5\n",
      "15\n",
      "<class 'int'>\n",
      "('mangoes', 'oranges', 'apples')\n"
     ]
    }
   ],
   "source": [
    "x='usman'\n",
    "y='haris'\n",
    "print(x,y)\n",
    "x=5\n",
    "print(x)\n",
    "print(x+10)\n",
    "type(x)\n",
    "print(type(x))\n",
    "\n",
    "#rules to assign variables\n",
    "#1-the variables should contain letters, underscore\n",
    "#2-do not start with numbers\n",
    "#3-spaces are not allowed\n",
    "#4-donot use keywords\n",
    "#5-short and descriptive\n",
    "#6-lower and upper case letter sensitive (lower case recommended)\n",
    "\n",
    "fruit_baskit=\"mangoes\",\"oranges\",'apples'\n",
    "# del fruit_baskit\n",
    "# fruit_baskit=8\n",
    "print(fruit_baskit)\n"
   ]
  },
  {
   "cell_type": "markdown",
   "id": "a9a7fec9",
   "metadata": {},
   "source": [
    "### **05- input_variables**"
   ]
  },
  {
   "cell_type": "code",
   "execution_count": 6,
   "id": "86d9d2dc",
   "metadata": {},
   "outputs": [
    {
     "name": "stdout",
     "output_type": "stream",
     "text": [
      "what is your name? Usman Khan\n",
      "how old are you? 29\n",
      "hello! Usman Khan you are still young\n"
     ]
    }
   ],
   "source": [
    "fruit_baskit=\"mangoes\"\n",
    "#iput_variables\n",
    "# fruit_baskit=input(\"which one is your favourite fruit? \")\n",
    "# print(fruit_baskit)\n",
    "\n",
    "#input function of 2nd stage\n",
    "# name=input(\"what is your name? \")\n",
    "# Greetings=\"hello!\"\n",
    "# print(Greetings,name)\n",
    "\n",
    "# #another way of stage 2 input function\n",
    "# name=input(\"what is your name? \")\n",
    "# #Greetings=\"hello!\"\n",
    "# print('Hello!',name)\n",
    "\n",
    "#3rd stage input function\n",
    "name=input(\"what is your name? \")\n",
    "age=input('how old are you? ')\n",
    "greetings=\"hello!\"\n",
    "print(greetings,name, \"you are still young\")"
   ]
  },
  {
   "cell_type": "markdown",
   "id": "52ae79d3",
   "metadata": {},
   "source": [
    "### **07- conditional_logics**"
   ]
  },
  {
   "cell_type": "code",
   "execution_count": 7,
   "id": "069c1ff1",
   "metadata": {},
   "outputs": [
    {
     "name": "stdout",
     "output_type": "stream",
     "text": [
      "True False\n",
      "how old is Hammad 5\n",
      "<class 'str'>\n",
      "False\n"
     ]
    }
   ],
   "source": [
    "#equal to ==\n",
    "#greater than >\n",
    "#less than <\n",
    "#not equal to !=\n",
    "\n",
    "#is 4 equal to 4\n",
    "print(4==4,4!=4)\n",
    "\n",
    "#application of logical operators\n",
    "# harris_age=4\n",
    "# age_at_school=5\n",
    "# print(harris_age==age_at_school)\n",
    "\n",
    "#input operators and logicals\n",
    "age_at_school=5\n",
    "harris_age=input(\"how old is Hammad \")\n",
    "#harris_age=int(harris_age)\n",
    "print(type(harris_age))\n",
    "print(harris_age==age_at_school)"
   ]
  },
  {
   "cell_type": "markdown",
   "id": "37201c1c",
   "metadata": {},
   "source": [
    "### **08- type_conversion**"
   ]
  },
  {
   "cell_type": "code",
   "execution_count": 8,
   "id": "61b1b37f",
   "metadata": {},
   "outputs": [
    {
     "name": "stdout",
     "output_type": "stream",
     "text": [
      "20.3 type of x is <class 'float'>\n",
      "what is your name? usman\n",
      "usman <class 'str'>\n"
     ]
    }
   ],
   "source": [
    "x=10\n",
    "y=10.3\n",
    "z=\"hello\"\n",
    "\n",
    "#implicit conversion\n",
    "x=x+y\n",
    "print(x,\"type of x is\", type(x))\n",
    "\n",
    "#name\n",
    "name=input(\"what is your name? \")\n",
    "print(name, type(str(name)))"
   ]
  },
  {
   "cell_type": "markdown",
   "id": "24f7b317",
   "metadata": {},
   "source": [
    "### **09- else_elif_else**"
   ]
  },
  {
   "cell_type": "code",
   "execution_count": 9,
   "id": "61dd9cd1",
   "metadata": {},
   "outputs": [],
   "source": [
    "required_age_at_school=5\n",
    "harris_age=18\n",
    "#can harris go to school \n",
    "if harris_age==required_age_at_school:\n",
    "    print(\"harris can join the school\")\n",
    "elif harris_age<=3:\n",
    "    print(\"haris needs more time to be cared\")\n",
    "elif harris_age==14:\n",
    "    print(\"harris should join the FA/FSc\")\n",
    "elif harris_age>=23:\n",
    "    print(\"haris needs to go for MS\")\n",
    "#else:\n",
    " #   print(\"harris can not join the school\")"
   ]
  },
  {
   "cell_type": "markdown",
   "id": "129921e5",
   "metadata": {},
   "source": [
    "### **10- else_elif_else**"
   ]
  },
  {
   "cell_type": "code",
   "execution_count": 10,
   "id": "7ef78e12",
   "metadata": {},
   "outputs": [
    {
     "name": "stdout",
     "output_type": "stream",
     "text": [
      "we are learning python with Aammar\n",
      "we are learning with Aammar\n",
      "we are learning with Aammar\n",
      "we are learning with Aammar\n",
      "we are learning with Aammar\n",
      "we are learning with Aammar\n",
      "we are learning with Aammar\n",
      "we are learning with a lot of people\n",
      "we are learning with a lot of people\n",
      "we are learning python from codanics\n",
      "we are learning python from codanics\n",
      "we are learning python from codanics\n",
      "haris is still a baby\n",
      "38\n"
     ]
    }
   ],
   "source": [
    "print(\"we are learning python with Aammar\") #what if you need to print it multiple times\n",
    "#defining a function\n",
    "def print_mani(): #you can define any function on your own with print\n",
    "    print(\"we are learning with Aammar\")\n",
    "    print(\"we are learning with Aammar\")\n",
    "    print(\"we are learning with Aammar\")\n",
    "    print(\"we are learning with Aammar\")\n",
    "    print(\"we are learning with Aammar\")\n",
    "    print(\"we are learning with Aammar\")\n",
    "print_mani()\n",
    " #2nd way of defining function\n",
    "def print_fari():\n",
    "     text=\"we are learning with a lot of people\"\n",
    "     print(text)\n",
    "     print(text)\n",
    "print_fari()\n",
    "#3rd way of defining function\n",
    "\n",
    "def print_fari(text):\n",
    "    print(text)\n",
    "    print(text)\n",
    "    print(text)\n",
    "print_fari(\"we are learning python from codanics\")\n",
    "\n",
    "# defining a function with else elif else\n",
    "\n",
    "def school_calculator(age):\n",
    "    if age==5:\n",
    "        print(\"harris can join the school\")\n",
    "    elif age>=5:\n",
    "        print(\"haris can join the higher seconfdary school\")\n",
    "    else:\n",
    "        print(\"haris is still a baby\")\n",
    "school_calculator(2)\n",
    "\n",
    "def future_age(age):\n",
    "    new_age=age+20\n",
    "    return new_age\n",
    "    print(\"new_age\")\n",
    "future_pridicted_age=future_age(18)\n",
    "print(future_pridicted_age)"
   ]
  },
  {
   "cell_type": "markdown",
   "id": "27e013d4",
   "metadata": {},
   "source": [
    "### **11- Loops**"
   ]
  },
  {
   "cell_type": "code",
   "execution_count": 11,
   "id": "4a9562b5",
   "metadata": {},
   "outputs": [
    {
     "name": "stdout",
     "output_type": "stream",
     "text": [
      "0\n",
      "1\n",
      "2\n",
      "3\n",
      "4\n",
      "5\n",
      "6\n",
      "7\n",
      "8\n",
      "9\n",
      "monday\n",
      "tuesday\n",
      "wednesday\n",
      "thursday\n"
     ]
    }
   ],
   "source": [
    "#while loops and for loops\n",
    "x=0\n",
    "while (x<5):\n",
    "    print(x)\n",
    "    x=x+1\n",
    "#for loop\n",
    "for x in range(5,10):\n",
    "    print(x)\n",
    "#array\n",
    "\n",
    "days=[\"monday\",\"tuesday\",\"wednesday\",\"thursday\",\"friday\",\"saturday\",\"sunday\"]\n",
    "for d in days:\n",
    "    if (d==\"friday\"): break #loop stops\n",
    "    if (d==\"friday\"): continue #skips friday\n",
    "    print(d)\n"
   ]
  },
  {
   "cell_type": "markdown",
   "id": "961326c9",
   "metadata": {},
   "source": [
    "### **12- import_libraries**"
   ]
  },
  {
   "cell_type": "code",
   "execution_count": 12,
   "id": "33b6282b",
   "metadata": {},
   "outputs": [
    {
     "name": "stdout",
     "output_type": "stream",
     "text": [
      "the value of pi is  3.141592653589793\n",
      "300\n"
     ]
    }
   ],
   "source": [
    "# if you want to print the value of pi\n",
    "\n",
    "import math\n",
    "print(\"the value of pi is \",math.pi)\n",
    "\n",
    "import statistics\n",
    "x=[150,250,350,450]\n",
    "print(statistics.mean(x))"
   ]
  },
  {
   "cell_type": "markdown",
   "id": "32b25ab3",
   "metadata": {},
   "source": [
    "### **13- trouble_shooting**"
   ]
  },
  {
   "cell_type": "code",
   "execution_count": 13,
   "id": "a27fe082",
   "metadata": {},
   "outputs": [],
   "source": [
    "#syntax error\n",
    "#print (25/0) #runtime error\n",
    "#symantix error"
   ]
  },
  {
   "cell_type": "markdown",
   "id": "e037418d",
   "metadata": {},
   "source": [
    "### **14- data_viz**"
   ]
  },
  {
   "cell_type": "code",
   "execution_count": 14,
   "id": "48d75867",
   "metadata": {},
   "outputs": [
    {
     "name": "stdout",
     "output_type": "stream",
     "text": [
      "     survived  pclass     sex   age  sibsp  parch     fare embarked   class  \\\n",
      "0           0       3    male  22.0      1      0   7.2500        S   Third   \n",
      "1           1       1  female  38.0      1      0  71.2833        C   First   \n",
      "2           1       3  female  26.0      0      0   7.9250        S   Third   \n",
      "3           1       1  female  35.0      1      0  53.1000        S   First   \n",
      "4           0       3    male  35.0      0      0   8.0500        S   Third   \n",
      "..        ...     ...     ...   ...    ...    ...      ...      ...     ...   \n",
      "886         0       2    male  27.0      0      0  13.0000        S  Second   \n",
      "887         1       1  female  19.0      0      0  30.0000        S   First   \n",
      "888         0       3  female   NaN      1      2  23.4500        S   Third   \n",
      "889         1       1    male  26.0      0      0  30.0000        C   First   \n",
      "890         0       3    male  32.0      0      0   7.7500        Q   Third   \n",
      "\n",
      "       who  adult_male deck  embark_town alive  alone  \n",
      "0      man        True  NaN  Southampton    no  False  \n",
      "1    woman       False    C    Cherbourg   yes  False  \n",
      "2    woman       False  NaN  Southampton   yes   True  \n",
      "3    woman       False    C  Southampton   yes  False  \n",
      "4      man        True  NaN  Southampton    no   True  \n",
      "..     ...         ...  ...          ...   ...    ...  \n",
      "886    man        True  NaN  Southampton    no   True  \n",
      "887  woman       False    B  Southampton   yes   True  \n",
      "888  woman       False  NaN  Southampton    no  False  \n",
      "889    man        True    C    Cherbourg   yes   True  \n",
      "890    man        True  NaN   Queenstown    no   True  \n",
      "\n",
      "[891 rows x 15 columns]\n"
     ]
    },
    {
     "data": {
      "image/png": "[encoded data removed]",
      "text/plain": [
       "<Figure size 432x288 with 1 Axes>"
      ]
     },
     "metadata": {},
     "output_type": "display_data"
    },
    {
     "data": {
      "image/png": "[encoded data removed]",
      "text/plain": [
       "<Figure size 432x288 with 1 Axes>"
      ]
     },
     "metadata": {},
     "output_type": "display_data"
    },
    {
     "data": {
      "image/png": "[encoded data removed]",
      "text/plain": [
       "<Figure size 432x288 with 1 Axes>"
      ]
     },
     "metadata": {},
     "output_type": "display_data"
    }
   ],
   "source": [
    "#import libraries\n",
    "import seaborn as sns\n",
    "import matplotlib.pyplot as plt\n",
    "\n",
    "#setup-2 set a theme\n",
    "sns.set_theme(style=\"ticks\",color_codes=True)\n",
    "\n",
    "#setup-3 \n",
    "kashti=sns.load_dataset(\"titanic\")\n",
    "print(kashti)\n",
    "\n",
    "#setup-4\n",
    "p=sns.countplot(x=\"sex\",data=kashti)\n",
    "plt.show()\n",
    "\n",
    "#step-5 plot basic graph with 2 variables \n",
    "p=sns.countplot(x=\"sex\",data=kashti,hue=\"class\")\n",
    "p.set_title(\"count plot for kashti\")\n",
    "plt.show()\n",
    "\n",
    "\n",
    "\n",
    "#step-6 plot basic graph with 2 variable (count plot) with titles\n",
    "p=sns.countplot(x=\"sex\",data=kashti,hue=\"class\")\n",
    "p.set_title(\"count plot for kashti\")\n",
    "plt.show()"
   ]
  }
 ],
 "metadata": {
  "kernelspec": {
   "display_name": "Python 3 (ipykernel)",
   "language": "python",
   "name": "python3"
  },
  "language_info": {
   "codemirror_mode": {
    "name": "ipython",
    "version": 3
   },
   "file_extension": ".py",
   "mimetype": "text/x-python",
   "name": "python",
   "nbconvert_exporter": "python",
   "pygments_lexer": "ipython3",
   "version": "3.9.7"
  }
 },
 "nbformat": 4,
 "nbformat_minor": 5
}
