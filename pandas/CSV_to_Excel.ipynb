{
 "cells": [
  {
   "cell_type": "markdown",
   "id": "9cecf6d8",
   "metadata": {},
   "source": [
    "# To convert CSV file to excel"
   ]
  },
  {
   "cell_type": "code",
   "execution_count": 4,
   "id": "ae29f57d",
   "metadata": {},
   "outputs": [],
   "source": [
    "import pandas as pd\n",
    "readfile=pd.read_csv(r\"C:\\\\Users\\\\Haris Bin Tariq\\\\Desktop\\\\python_for_firsttime\\\\pandas\\\\kashti.csv\" )\n",
    "readfile.to_excel(r\"C:\\\\Users\\\\Haris Bin Tariq\\\\Desktop\\\\python_for_firsttime\\\\pandas\\\\kashti.xlsx\",index = None, header=True)"
   ]
  }
 ],
 "metadata": {
  "kernelspec": {
   "display_name": "Python 3 (ipykernel)",
   "language": "python",
   "name": "python3"
  },
  "language_info": {
   "codemirror_mode": {
    "name": "ipython",
    "version": 3
   },
   "file_extension": ".py",
   "mimetype": "text/x-python",
   "name": "python",
   "nbconvert_exporter": "python",
   "pygments_lexer": "ipython3",
   "version": "3.9.7"
  }
 },
 "nbformat": 4,
 "nbformat_minor": 5
}
