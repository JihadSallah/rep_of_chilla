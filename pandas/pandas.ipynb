{
 "cells": [
  {
   "cell_type": "markdown",
   "metadata": {},
   "source": [
    "Import libraries"
   ]
  },
  {
   "cell_type": "code",
   "execution_count": 3,
   "metadata": {},
   "outputs": [],
   "source": [
    "import pandas as pd\n",
    "import numpy as np"
   ]
  },
  {
   "cell_type": "code",
   "execution_count": 7,
   "metadata": {},
   "outputs": [
    {
     "data": {
      "text/plain": [
       "0    1.0\n",
       "1    3.0\n",
       "2    NaN\n",
       "3    5.0\n",
       "4    7.0\n",
       "5    9.0\n",
       "dtype: float64"
      ]
     },
     "execution_count": 7,
     "metadata": {},
     "output_type": "execute_result"
    }
   ],
   "source": [
    "#object creation\n",
    "s=pd.Series([1,3,np.nan,5,7,9])\n",
    "s"
   ]
  },
  {
   "cell_type": "code",
   "execution_count": 8,
   "metadata": {},
   "outputs": [
    {
     "data": {
      "text/plain": [
       "DatetimeIndex(['2022-01-11', '2022-01-12', '2022-01-13', '2022-01-14',\n",
       "               '2022-01-15', '2022-01-16', '2022-01-17', '2022-01-18',\n",
       "               '2022-01-19', '2022-01-20', '2022-01-21'],\n",
       "              dtype='datetime64[ns]', freq='D')"
      ]
     },
     "execution_count": 8,
     "metadata": {},
     "output_type": "execute_result"
    }
   ],
   "source": [
    "dates=pd.date_range(\"20220111\",periods=6)\n",
    "dates"
   ]
  },
  {
   "cell_type": "code",
   "execution_count": 9,
   "metadata": {},
   "outputs": [
    {
     "data": {
      "text/html": [
       "<div>\n",
       "<style scoped>\n",
       "    .dataframe tbody tr th:only-of-type {\n",
       "        vertical-align: middle;\n",
       "    }\n",
       "\n",
       "    .dataframe tbody tr th {\n",
       "        vertical-align: top;\n",
       "    }\n",
       "\n",
       "    .dataframe thead th {\n",
       "        text-align: right;\n",
       "    }\n",
       "</style>\n",
       "<table border=\"1\" class=\"dataframe\">\n",
       "  <thead>\n",
       "    <tr style=\"text-align: right;\">\n",
       "      <th></th>\n",
       "      <th>A</th>\n",
       "      <th>B</th>\n",
       "      <th>C</th>\n",
       "      <th>D</th>\n",
       "    </tr>\n",
       "  </thead>\n",
       "  <tbody>\n",
       "    <tr>\n",
       "      <th>2022-01-11</th>\n",
       "      <td>1.303203</td>\n",
       "      <td>0.158803</td>\n",
       "      <td>0.613213</td>\n",
       "      <td>-0.496009</td>\n",
       "    </tr>\n",
       "    <tr>\n",
       "      <th>2022-01-12</th>\n",
       "      <td>0.028289</td>\n",
       "      <td>0.463597</td>\n",
       "      <td>-1.060603</td>\n",
       "      <td>-0.392005</td>\n",
       "    </tr>\n",
       "    <tr>\n",
       "      <th>2022-01-13</th>\n",
       "      <td>-1.151623</td>\n",
       "      <td>1.952477</td>\n",
       "      <td>-0.584926</td>\n",
       "      <td>0.978519</td>\n",
       "    </tr>\n",
       "    <tr>\n",
       "      <th>2022-01-14</th>\n",
       "      <td>-1.038778</td>\n",
       "      <td>-0.973808</td>\n",
       "      <td>-0.413945</td>\n",
       "      <td>-1.352220</td>\n",
       "    </tr>\n",
       "    <tr>\n",
       "      <th>2022-01-15</th>\n",
       "      <td>0.410161</td>\n",
       "      <td>-0.510541</td>\n",
       "      <td>0.680381</td>\n",
       "      <td>-1.239756</td>\n",
       "    </tr>\n",
       "    <tr>\n",
       "      <th>2022-01-16</th>\n",
       "      <td>-0.416521</td>\n",
       "      <td>0.738600</td>\n",
       "      <td>-0.409964</td>\n",
       "      <td>0.415694</td>\n",
       "    </tr>\n",
       "  </tbody>\n",
       "</table>\n",
       "</div>"
      ],
      "text/plain": [
       "                   A         B         C         D\n",
       "2022-01-11  1.303203  0.158803  0.613213 -0.496009\n",
       "2022-01-12  0.028289  0.463597 -1.060603 -0.392005\n",
       "2022-01-13 -1.151623  1.952477 -0.584926  0.978519\n",
       "2022-01-14 -1.038778 -0.973808 -0.413945 -1.352220\n",
       "2022-01-15  0.410161 -0.510541  0.680381 -1.239756\n",
       "2022-01-16 -0.416521  0.738600 -0.409964  0.415694"
      ]
     },
     "execution_count": 9,
     "metadata": {},
     "output_type": "execute_result"
    }
   ],
   "source": [
    "dates=pd.date_range(\"20220111\",periods=6)\n",
    "dates\n",
    "df=pd.DataFrame(np.random.randn(6,4),index=dates,columns=list(\"ABCD\"))\n",
    "df"
   ]
  },
  {
   "cell_type": "code",
   "execution_count": 10,
   "metadata": {},
   "outputs": [
    {
     "data": {
      "text/plain": [
       "DatetimeIndex(['2022-01-11', '2022-01-12', '2022-01-13', '2022-01-14',\n",
       "               '2022-01-15', '2022-01-16'],\n",
       "              dtype='datetime64[ns]', freq='D')"
      ]
     },
     "execution_count": 10,
     "metadata": {},
     "output_type": "execute_result"
    }
   ],
   "source": [
    "df.index"
   ]
  },
  {
   "cell_type": "code",
   "execution_count": 12,
   "metadata": {},
   "outputs": [
    {
     "data": {
      "text/plain": [
       "array([[ 1.30320312,  0.15880344,  0.61321309, -0.49600902],\n",
       "       [ 0.02828852,  0.46359681, -1.06060328, -0.39200533],\n",
       "       [-1.15162272,  1.95247703, -0.58492605,  0.9785191 ],\n",
       "       [-1.03877758, -0.97380761, -0.41394494, -1.35221985],\n",
       "       [ 0.41016063, -0.51054056,  0.68038071, -1.23975611],\n",
       "       [-0.41652052,  0.73859963, -0.40996368,  0.41569387]])"
      ]
     },
     "execution_count": 12,
     "metadata": {},
     "output_type": "execute_result"
    }
   ],
   "source": [
    "df.to_numpy()"
   ]
  },
  {
   "cell_type": "code",
   "execution_count": 13,
   "metadata": {},
   "outputs": [
    {
     "data": {
      "text/html": [
       "<div>\n",
       "<style scoped>\n",
       "    .dataframe tbody tr th:only-of-type {\n",
       "        vertical-align: middle;\n",
       "    }\n",
       "\n",
       "    .dataframe tbody tr th {\n",
       "        vertical-align: top;\n",
       "    }\n",
       "\n",
       "    .dataframe thead th {\n",
       "        text-align: right;\n",
       "    }\n",
       "</style>\n",
       "<table border=\"1\" class=\"dataframe\">\n",
       "  <thead>\n",
       "    <tr style=\"text-align: right;\">\n",
       "      <th></th>\n",
       "      <th>A</th>\n",
       "      <th>B</th>\n",
       "      <th>C</th>\n",
       "      <th>D</th>\n",
       "    </tr>\n",
       "  </thead>\n",
       "  <tbody>\n",
       "    <tr>\n",
       "      <th>count</th>\n",
       "      <td>6.000000</td>\n",
       "      <td>6.000000</td>\n",
       "      <td>6.000000</td>\n",
       "      <td>6.000000</td>\n",
       "    </tr>\n",
       "    <tr>\n",
       "      <th>mean</th>\n",
       "      <td>-0.144211</td>\n",
       "      <td>0.304855</td>\n",
       "      <td>-0.195974</td>\n",
       "      <td>-0.347630</td>\n",
       "    </tr>\n",
       "    <tr>\n",
       "      <th>std</th>\n",
       "      <td>0.929664</td>\n",
       "      <td>1.024614</td>\n",
       "      <td>0.694975</td>\n",
       "      <td>0.913281</td>\n",
       "    </tr>\n",
       "    <tr>\n",
       "      <th>min</th>\n",
       "      <td>-1.151623</td>\n",
       "      <td>-0.973808</td>\n",
       "      <td>-1.060603</td>\n",
       "      <td>-1.352220</td>\n",
       "    </tr>\n",
       "    <tr>\n",
       "      <th>25%</th>\n",
       "      <td>-0.883213</td>\n",
       "      <td>-0.343205</td>\n",
       "      <td>-0.542181</td>\n",
       "      <td>-1.053819</td>\n",
       "    </tr>\n",
       "    <tr>\n",
       "      <th>50%</th>\n",
       "      <td>-0.194116</td>\n",
       "      <td>0.311200</td>\n",
       "      <td>-0.411954</td>\n",
       "      <td>-0.444007</td>\n",
       "    </tr>\n",
       "    <tr>\n",
       "      <th>75%</th>\n",
       "      <td>0.314693</td>\n",
       "      <td>0.669849</td>\n",
       "      <td>0.357419</td>\n",
       "      <td>0.213769</td>\n",
       "    </tr>\n",
       "    <tr>\n",
       "      <th>max</th>\n",
       "      <td>1.303203</td>\n",
       "      <td>1.952477</td>\n",
       "      <td>0.680381</td>\n",
       "      <td>0.978519</td>\n",
       "    </tr>\n",
       "  </tbody>\n",
       "</table>\n",
       "</div>"
      ],
      "text/plain": [
       "              A         B         C         D\n",
       "count  6.000000  6.000000  6.000000  6.000000\n",
       "mean  -0.144211  0.304855 -0.195974 -0.347630\n",
       "std    0.929664  1.024614  0.694975  0.913281\n",
       "min   -1.151623 -0.973808 -1.060603 -1.352220\n",
       "25%   -0.883213 -0.343205 -0.542181 -1.053819\n",
       "50%   -0.194116  0.311200 -0.411954 -0.444007\n",
       "75%    0.314693  0.669849  0.357419  0.213769\n",
       "max    1.303203  1.952477  0.680381  0.978519"
      ]
     },
     "execution_count": 13,
     "metadata": {},
     "output_type": "execute_result"
    }
   ],
   "source": [
    "df.describe()"
   ]
  },
  {
   "cell_type": "code",
   "execution_count": 14,
   "metadata": {},
   "outputs": [
    {
     "data": {
      "text/html": [
       "<div>\n",
       "<style scoped>\n",
       "    .dataframe tbody tr th:only-of-type {\n",
       "        vertical-align: middle;\n",
       "    }\n",
       "\n",
       "    .dataframe tbody tr th {\n",
       "        vertical-align: top;\n",
       "    }\n",
       "\n",
       "    .dataframe thead th {\n",
       "        text-align: right;\n",
       "    }\n",
       "</style>\n",
       "<table border=\"1\" class=\"dataframe\">\n",
       "  <thead>\n",
       "    <tr style=\"text-align: right;\">\n",
       "      <th></th>\n",
       "      <th>2022-01-11</th>\n",
       "      <th>2022-01-12</th>\n",
       "      <th>2022-01-13</th>\n",
       "      <th>2022-01-14</th>\n",
       "      <th>2022-01-15</th>\n",
       "      <th>2022-01-16</th>\n",
       "    </tr>\n",
       "  </thead>\n",
       "  <tbody>\n",
       "    <tr>\n",
       "      <th>A</th>\n",
       "      <td>1.303203</td>\n",
       "      <td>0.028289</td>\n",
       "      <td>-1.151623</td>\n",
       "      <td>-1.038778</td>\n",
       "      <td>0.410161</td>\n",
       "      <td>-0.416521</td>\n",
       "    </tr>\n",
       "    <tr>\n",
       "      <th>B</th>\n",
       "      <td>0.158803</td>\n",
       "      <td>0.463597</td>\n",
       "      <td>1.952477</td>\n",
       "      <td>-0.973808</td>\n",
       "      <td>-0.510541</td>\n",
       "      <td>0.738600</td>\n",
       "    </tr>\n",
       "    <tr>\n",
       "      <th>C</th>\n",
       "      <td>0.613213</td>\n",
       "      <td>-1.060603</td>\n",
       "      <td>-0.584926</td>\n",
       "      <td>-0.413945</td>\n",
       "      <td>0.680381</td>\n",
       "      <td>-0.409964</td>\n",
       "    </tr>\n",
       "    <tr>\n",
       "      <th>D</th>\n",
       "      <td>-0.496009</td>\n",
       "      <td>-0.392005</td>\n",
       "      <td>0.978519</td>\n",
       "      <td>-1.352220</td>\n",
       "      <td>-1.239756</td>\n",
       "      <td>0.415694</td>\n",
       "    </tr>\n",
       "  </tbody>\n",
       "</table>\n",
       "</div>"
      ],
      "text/plain": [
       "   2022-01-11  2022-01-12  2022-01-13  2022-01-14  2022-01-15  2022-01-16\n",
       "A    1.303203    0.028289   -1.151623   -1.038778    0.410161   -0.416521\n",
       "B    0.158803    0.463597    1.952477   -0.973808   -0.510541    0.738600\n",
       "C    0.613213   -1.060603   -0.584926   -0.413945    0.680381   -0.409964\n",
       "D   -0.496009   -0.392005    0.978519   -1.352220   -1.239756    0.415694"
      ]
     },
     "execution_count": 14,
     "metadata": {},
     "output_type": "execute_result"
    }
   ],
   "source": [
    "#to transpose data\n",
    "df.T"
   ]
  },
  {
   "cell_type": "code",
   "execution_count": 15,
   "metadata": {},
   "outputs": [
    {
     "data": {
      "text/html": [
       "<div>\n",
       "<style scoped>\n",
       "    .dataframe tbody tr th:only-of-type {\n",
       "        vertical-align: middle;\n",
       "    }\n",
       "\n",
       "    .dataframe tbody tr th {\n",
       "        vertical-align: top;\n",
       "    }\n",
       "\n",
       "    .dataframe thead th {\n",
       "        text-align: right;\n",
       "    }\n",
       "</style>\n",
       "<table border=\"1\" class=\"dataframe\">\n",
       "  <thead>\n",
       "    <tr style=\"text-align: right;\">\n",
       "      <th></th>\n",
       "      <th>A</th>\n",
       "      <th>B</th>\n",
       "      <th>C</th>\n",
       "      <th>D</th>\n",
       "    </tr>\n",
       "  </thead>\n",
       "  <tbody>\n",
       "    <tr>\n",
       "      <th>2022-01-11</th>\n",
       "      <td>1.303203</td>\n",
       "      <td>0.158803</td>\n",
       "      <td>0.613213</td>\n",
       "      <td>-0.496009</td>\n",
       "    </tr>\n",
       "    <tr>\n",
       "      <th>2022-01-12</th>\n",
       "      <td>0.028289</td>\n",
       "      <td>0.463597</td>\n",
       "      <td>-1.060603</td>\n",
       "      <td>-0.392005</td>\n",
       "    </tr>\n",
       "    <tr>\n",
       "      <th>2022-01-13</th>\n",
       "      <td>-1.151623</td>\n",
       "      <td>1.952477</td>\n",
       "      <td>-0.584926</td>\n",
       "      <td>0.978519</td>\n",
       "    </tr>\n",
       "    <tr>\n",
       "      <th>2022-01-14</th>\n",
       "      <td>-1.038778</td>\n",
       "      <td>-0.973808</td>\n",
       "      <td>-0.413945</td>\n",
       "      <td>-1.352220</td>\n",
       "    </tr>\n",
       "    <tr>\n",
       "      <th>2022-01-15</th>\n",
       "      <td>0.410161</td>\n",
       "      <td>-0.510541</td>\n",
       "      <td>0.680381</td>\n",
       "      <td>-1.239756</td>\n",
       "    </tr>\n",
       "    <tr>\n",
       "      <th>2022-01-16</th>\n",
       "      <td>-0.416521</td>\n",
       "      <td>0.738600</td>\n",
       "      <td>-0.409964</td>\n",
       "      <td>0.415694</td>\n",
       "    </tr>\n",
       "  </tbody>\n",
       "</table>\n",
       "</div>"
      ],
      "text/plain": [
       "                   A         B         C         D\n",
       "2022-01-11  1.303203  0.158803  0.613213 -0.496009\n",
       "2022-01-12  0.028289  0.463597 -1.060603 -0.392005\n",
       "2022-01-13 -1.151623  1.952477 -0.584926  0.978519\n",
       "2022-01-14 -1.038778 -0.973808 -0.413945 -1.352220\n",
       "2022-01-15  0.410161 -0.510541  0.680381 -1.239756\n",
       "2022-01-16 -0.416521  0.738600 -0.409964  0.415694"
      ]
     },
     "execution_count": 15,
     "metadata": {},
     "output_type": "execute_result"
    }
   ],
   "source": [
    "#sort the data\n",
    "df.sort_index(axis=0,ascending=True)"
   ]
  },
  {
   "cell_type": "code",
   "execution_count": 16,
   "metadata": {},
   "outputs": [
    {
     "data": {
      "text/html": [
       "<div>\n",
       "<style scoped>\n",
       "    .dataframe tbody tr th:only-of-type {\n",
       "        vertical-align: middle;\n",
       "    }\n",
       "\n",
       "    .dataframe tbody tr th {\n",
       "        vertical-align: top;\n",
       "    }\n",
       "\n",
       "    .dataframe thead th {\n",
       "        text-align: right;\n",
       "    }\n",
       "</style>\n",
       "<table border=\"1\" class=\"dataframe\">\n",
       "  <thead>\n",
       "    <tr style=\"text-align: right;\">\n",
       "      <th></th>\n",
       "      <th>A</th>\n",
       "      <th>B</th>\n",
       "      <th>C</th>\n",
       "      <th>D</th>\n",
       "    </tr>\n",
       "  </thead>\n",
       "  <tbody>\n",
       "    <tr>\n",
       "      <th>2022-01-14</th>\n",
       "      <td>-1.038778</td>\n",
       "      <td>-0.973808</td>\n",
       "      <td>-0.413945</td>\n",
       "      <td>-1.352220</td>\n",
       "    </tr>\n",
       "    <tr>\n",
       "      <th>2022-01-15</th>\n",
       "      <td>0.410161</td>\n",
       "      <td>-0.510541</td>\n",
       "      <td>0.680381</td>\n",
       "      <td>-1.239756</td>\n",
       "    </tr>\n",
       "    <tr>\n",
       "      <th>2022-01-11</th>\n",
       "      <td>1.303203</td>\n",
       "      <td>0.158803</td>\n",
       "      <td>0.613213</td>\n",
       "      <td>-0.496009</td>\n",
       "    </tr>\n",
       "    <tr>\n",
       "      <th>2022-01-12</th>\n",
       "      <td>0.028289</td>\n",
       "      <td>0.463597</td>\n",
       "      <td>-1.060603</td>\n",
       "      <td>-0.392005</td>\n",
       "    </tr>\n",
       "    <tr>\n",
       "      <th>2022-01-16</th>\n",
       "      <td>-0.416521</td>\n",
       "      <td>0.738600</td>\n",
       "      <td>-0.409964</td>\n",
       "      <td>0.415694</td>\n",
       "    </tr>\n",
       "    <tr>\n",
       "      <th>2022-01-13</th>\n",
       "      <td>-1.151623</td>\n",
       "      <td>1.952477</td>\n",
       "      <td>-0.584926</td>\n",
       "      <td>0.978519</td>\n",
       "    </tr>\n",
       "  </tbody>\n",
       "</table>\n",
       "</div>"
      ],
      "text/plain": [
       "                   A         B         C         D\n",
       "2022-01-14 -1.038778 -0.973808 -0.413945 -1.352220\n",
       "2022-01-15  0.410161 -0.510541  0.680381 -1.239756\n",
       "2022-01-11  1.303203  0.158803  0.613213 -0.496009\n",
       "2022-01-12  0.028289  0.463597 -1.060603 -0.392005\n",
       "2022-01-16 -0.416521  0.738600 -0.409964  0.415694\n",
       "2022-01-13 -1.151623  1.952477 -0.584926  0.978519"
      ]
     },
     "execution_count": 16,
     "metadata": {},
     "output_type": "execute_result"
    }
   ],
   "source": [
    "df.sort_values(by=\"B\",ascending=True)"
   ]
  },
  {
   "cell_type": "code",
   "execution_count": 17,
   "metadata": {},
   "outputs": [
    {
     "data": {
      "text/plain": [
       "2022-01-11    1.303203\n",
       "2022-01-12    0.028289\n",
       "2022-01-13   -1.151623\n",
       "2022-01-14   -1.038778\n",
       "2022-01-15    0.410161\n",
       "2022-01-16   -0.416521\n",
       "Freq: D, Name: A, dtype: float64"
      ]
     },
     "execution_count": 17,
     "metadata": {},
     "output_type": "execute_result"
    }
   ],
   "source": [
    "df[\"A\"]"
   ]
  },
  {
   "cell_type": "code",
   "execution_count": 18,
   "metadata": {},
   "outputs": [
    {
     "data": {
      "text/html": [
       "<div>\n",
       "<style scoped>\n",
       "    .dataframe tbody tr th:only-of-type {\n",
       "        vertical-align: middle;\n",
       "    }\n",
       "\n",
       "    .dataframe tbody tr th {\n",
       "        vertical-align: top;\n",
       "    }\n",
       "\n",
       "    .dataframe thead th {\n",
       "        text-align: right;\n",
       "    }\n",
       "</style>\n",
       "<table border=\"1\" class=\"dataframe\">\n",
       "  <thead>\n",
       "    <tr style=\"text-align: right;\">\n",
       "      <th></th>\n",
       "      <th>A</th>\n",
       "      <th>B</th>\n",
       "      <th>C</th>\n",
       "      <th>D</th>\n",
       "    </tr>\n",
       "  </thead>\n",
       "  <tbody>\n",
       "    <tr>\n",
       "      <th>2022-01-11</th>\n",
       "      <td>1.303203</td>\n",
       "      <td>0.158803</td>\n",
       "      <td>0.613213</td>\n",
       "      <td>-0.496009</td>\n",
       "    </tr>\n",
       "    <tr>\n",
       "      <th>2022-01-12</th>\n",
       "      <td>0.028289</td>\n",
       "      <td>0.463597</td>\n",
       "      <td>-1.060603</td>\n",
       "      <td>-0.392005</td>\n",
       "    </tr>\n",
       "    <tr>\n",
       "      <th>2022-01-13</th>\n",
       "      <td>-1.151623</td>\n",
       "      <td>1.952477</td>\n",
       "      <td>-0.584926</td>\n",
       "      <td>0.978519</td>\n",
       "    </tr>\n",
       "    <tr>\n",
       "      <th>2022-01-14</th>\n",
       "      <td>-1.038778</td>\n",
       "      <td>-0.973808</td>\n",
       "      <td>-0.413945</td>\n",
       "      <td>-1.352220</td>\n",
       "    </tr>\n",
       "  </tbody>\n",
       "</table>\n",
       "</div>"
      ],
      "text/plain": [
       "                   A         B         C         D\n",
       "2022-01-11  1.303203  0.158803  0.613213 -0.496009\n",
       "2022-01-12  0.028289  0.463597 -1.060603 -0.392005\n",
       "2022-01-13 -1.151623  1.952477 -0.584926  0.978519\n",
       "2022-01-14 -1.038778 -0.973808 -0.413945 -1.352220"
      ]
     },
     "execution_count": 18,
     "metadata": {},
     "output_type": "execute_result"
    }
   ],
   "source": [
    "#row wise selection\n",
    "df[0:4]"
   ]
  },
  {
   "cell_type": "code",
   "execution_count": 20,
   "metadata": {},
   "outputs": [
    {
     "data": {
      "text/plain": [
       "A   -1.038778\n",
       "B   -0.973808\n",
       "C   -0.413945\n",
       "D   -1.352220\n",
       "Name: 2022-01-14 00:00:00, dtype: float64"
      ]
     },
     "execution_count": 20,
     "metadata": {},
     "output_type": "execute_result"
    }
   ],
   "source": [
    "# date wise data\n",
    "#df.loc[dates[0]]\n",
    "df.loc[dates[3]]"
   ]
  },
  {
   "cell_type": "code",
   "execution_count": 21,
   "metadata": {},
   "outputs": [
    {
     "data": {
      "text/plain": [
       "A    1.303203\n",
       "B    0.158803\n",
       "C    0.613213\n",
       "Name: 2022-01-11 00:00:00, dtype: float64"
      ]
     },
     "execution_count": 21,
     "metadata": {},
     "output_type": "execute_result"
    }
   ],
   "source": [
    "df.loc[\"20220111\",[\"A\",\"B\",\"C\"]]"
   ]
  },
  {
   "cell_type": "code",
   "execution_count": 24,
   "metadata": {},
   "outputs": [
    {
     "ename": "TypeError",
     "evalue": "'_AtIndexer' object is not callable",
     "output_type": "error",
     "traceback": [
      "\u001b[1;31m---------------------------------------------------------------------------\u001b[0m",
      "\u001b[1;31mTypeError\u001b[0m                                 Traceback (most recent call last)",
      "\u001b[1;32mC:\\Users\\HARISB~1\\AppData\\Local\\Temp/ipykernel_3064/2638423448.py\u001b[0m in \u001b[0;36m<module>\u001b[1;34m\u001b[0m\n\u001b[1;32m----> 1\u001b[1;33m \u001b[0mdf\u001b[0m\u001b[1;33m.\u001b[0m\u001b[0mat\u001b[0m\u001b[1;33m(\u001b[0m\u001b[0mdates\u001b[0m\u001b[1;33m[\u001b[0m\u001b[1;36m1\u001b[0m\u001b[1;33m]\u001b[0m\u001b[1;33m,\u001b[0m\u001b[1;34m\"A\"\u001b[0m\u001b[1;33m)\u001b[0m\u001b[1;33m\u001b[0m\u001b[1;33m\u001b[0m\u001b[0m\n\u001b[0m",
      "\u001b[1;31mTypeError\u001b[0m: '_AtIndexer' object is not callable"
     ]
    }
   ],
   "source": [
    "#df.at(dates[1],\"A\")"
   ]
  },
  {
   "cell_type": "code",
   "execution_count": 25,
   "metadata": {},
   "outputs": [
    {
     "data": {
      "text/html": [
       "<div>\n",
       "<style scoped>\n",
       "    .dataframe tbody tr th:only-of-type {\n",
       "        vertical-align: middle;\n",
       "    }\n",
       "\n",
       "    .dataframe tbody tr th {\n",
       "        vertical-align: top;\n",
       "    }\n",
       "\n",
       "    .dataframe thead th {\n",
       "        text-align: right;\n",
       "    }\n",
       "</style>\n",
       "<table border=\"1\" class=\"dataframe\">\n",
       "  <thead>\n",
       "    <tr style=\"text-align: right;\">\n",
       "      <th></th>\n",
       "    </tr>\n",
       "  </thead>\n",
       "  <tbody>\n",
       "    <tr>\n",
       "      <th>2022-01-11</th>\n",
       "    </tr>\n",
       "  </tbody>\n",
       "</table>\n",
       "</div>"
      ],
      "text/plain": [
       "Empty DataFrame\n",
       "Columns: []\n",
       "Index: [2022-01-11 00:00:00]"
      ]
     },
     "execution_count": 25,
     "metadata": {},
     "output_type": "execute_result"
    }
   ],
   "source": [
    "df.iloc[0:1,2:2]"
   ]
  },
  {
   "cell_type": "code",
   "execution_count": 26,
   "metadata": {},
   "outputs": [
    {
     "data": {
      "text/html": [
       "<div>\n",
       "<style scoped>\n",
       "    .dataframe tbody tr th:only-of-type {\n",
       "        vertical-align: middle;\n",
       "    }\n",
       "\n",
       "    .dataframe tbody tr th {\n",
       "        vertical-align: top;\n",
       "    }\n",
       "\n",
       "    .dataframe thead th {\n",
       "        text-align: right;\n",
       "    }\n",
       "</style>\n",
       "<table border=\"1\" class=\"dataframe\">\n",
       "  <thead>\n",
       "    <tr style=\"text-align: right;\">\n",
       "      <th></th>\n",
       "      <th>A</th>\n",
       "      <th>B</th>\n",
       "      <th>C</th>\n",
       "      <th>D</th>\n",
       "    </tr>\n",
       "  </thead>\n",
       "  <tbody>\n",
       "    <tr>\n",
       "      <th>2022-01-11</th>\n",
       "      <td>1.303203</td>\n",
       "      <td>0.158803</td>\n",
       "      <td>0.613213</td>\n",
       "      <td>-0.496009</td>\n",
       "    </tr>\n",
       "    <tr>\n",
       "      <th>2022-01-12</th>\n",
       "      <td>0.028289</td>\n",
       "      <td>0.463597</td>\n",
       "      <td>-1.060603</td>\n",
       "      <td>-0.392005</td>\n",
       "    </tr>\n",
       "    <tr>\n",
       "      <th>2022-01-15</th>\n",
       "      <td>0.410161</td>\n",
       "      <td>-0.510541</td>\n",
       "      <td>0.680381</td>\n",
       "      <td>-1.239756</td>\n",
       "    </tr>\n",
       "  </tbody>\n",
       "</table>\n",
       "</div>"
      ],
      "text/plain": [
       "                   A         B         C         D\n",
       "2022-01-11  1.303203  0.158803  0.613213 -0.496009\n",
       "2022-01-12  0.028289  0.463597 -1.060603 -0.392005\n",
       "2022-01-15  0.410161 -0.510541  0.680381 -1.239756"
      ]
     },
     "execution_count": 26,
     "metadata": {},
     "output_type": "execute_result"
    }
   ],
   "source": [
    "#Boolean operators\n",
    "df[df[\"A\"]>0]"
   ]
  },
  {
   "cell_type": "code",
   "execution_count": null,
   "metadata": {},
   "outputs": [],
   "source": []
  }
 ],
 "metadata": {
  "interpreter": {
   "hash": "57ed3a8535320c4fe433cedb58792990d8b8f4bc097eeae7c0aad8e32c36438d"
  },
  "kernelspec": {
   "display_name": "Python 3.10.1 64-bit",
   "language": "python",
   "name": "python3"
  },
  "language_info": {
   "codemirror_mode": {
    "name": "ipython",
    "version": 3
   },
   "file_extension": ".py",
   "mimetype": "text/x-python",
   "name": "python",
   "nbconvert_exporter": "python",
   "pygments_lexer": "ipython3",
   "version": "3.10.1"
  },
  "orig_nbformat": 4
 },
 "nbformat": 4,
 "nbformat_minor": 2
}
